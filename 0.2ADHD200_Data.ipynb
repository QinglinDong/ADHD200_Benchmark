{
 "cells": [
  {
   "cell_type": "code",
   "execution_count": 3,
   "metadata": {},
   "outputs": [],
   "source": [
    "import numpy as np"
   ]
  },
  {
   "cell_type": "code",
   "execution_count": 4,
   "metadata": {},
   "outputs": [
    {
     "name": "stderr",
     "output_type": "stream",
     "text": [
      "/usr/lib/python3.5/importlib/_bootstrap.py:222: RuntimeWarning: numpy.dtype size changed, may indicate binary incompatibility. Expected 96, got 88\n",
      "  return f(*args, **kwds)\n"
     ]
    }
   ],
   "source": [
    "from nilearn._utils.niimg_conversions import _resolve_globbing\n",
    "from nilearn.input_data import NiftiMasker\n",
    "from nilearn.decomposition.base import mask_and_reduce\n",
    "def prepare_data(func_filenames):\n",
    "   \n",
    "    imgs = _resolve_globbing(func_filenames)\n",
    "    mask_img ='/home/share/TmpData/Qinglin/ADHD200_Athena_preproc_flirtfix/ADHD200_mask_152_4mm.nii.gz'\n",
    "    masker = NiftiMasker(mask_img=mask_img, \n",
    "                         standardize=True,\n",
    "                         detrend=1,\n",
    "                         smoothing_fwhm=6.,\n",
    "                         memory=\"/storage/nilearn_cache\", \n",
    "                         memory_level=2)\n",
    "    fmri_masked = masker.fit()\n",
    "\n",
    "    data = mask_and_reduce(\n",
    "        masker, imgs, confounds=None,\n",
    "        reduction_ratio=1,\n",
    "        random_state=0,\n",
    "        memory_level=3,\n",
    "        n_jobs=8)\n",
    "    return data"
   ]
  },
  {
   "cell_type": "code",
   "execution_count": 5,
   "metadata": {},
   "outputs": [],
   "source": [
    "import os\n",
    "def prepare_filenames(dir_name):    \n",
    "    func_filenames=[]\n",
    "    for x in os.listdir(dir_name):\n",
    "        file=dir_name+str(x)+'/sfnwmrda'+str(x)+'_session_1_rest_1.nii.gz'\n",
    "        #print(file)\n",
    "        if os.path.isfile(file):\n",
    "            func_filenames.append(file)  \n",
    "        else:\n",
    "            print(\"missing \"+file)  \n",
    "    func_filenames=sorted(func_filenames)  \n",
    "\n",
    "     # list of 4D nifti files for each subject  \n",
    "    return func_filenames\n",
    "\n"
   ]
  },
  {
   "cell_type": "code",
   "execution_count": 6,
   "metadata": {},
   "outputs": [
    {
     "name": "stderr",
     "output_type": "stream",
     "text": [
      "/usr/lib/python3.5/importlib/_bootstrap.py:222: RuntimeWarning: numpy.dtype size changed, may indicate binary incompatibility. Expected 96, got 88\n",
      "  return f(*args, **kwds)\n"
     ]
    }
   ],
   "source": [
    "import pandas as pd\n",
    "def prepare_label(label_filenames):\n",
    "    data = pd.read_csv(label_filenames)\n",
    "    Y = data['DX'].values\n",
    "\n",
    "    for index, item in enumerate(Y):\n",
    "        if item>1:\n",
    "            Y[index] = 1\n",
    "    return Y\n"
   ]
  },
  {
   "cell_type": "code",
   "execution_count": 26,
   "metadata": {
    "scrolled": true
   },
   "outputs": [
    {
     "name": "stdout",
     "output_type": "stream",
     "text": [
      "missing /home/share/TmpData/Qinglin/ADHD200_Athena_preproc_flirtfix/Peking_All/Peking_3_phenotypic.csv/sfnwmrdaPeking_3_phenotypic.csv_session_1_rest_1.nii.gz\n",
      "missing /home/share/TmpData/Qinglin/ADHD200_Athena_preproc_flirtfix/Peking_All/Peking_2_phenotypic.csv/sfnwmrdaPeking_2_phenotypic.csv_session_1_rest_1.nii.gz\n",
      "missing /home/share/TmpData/Qinglin/ADHD200_Athena_preproc_flirtfix/Peking_All/Peking_1_phenotypic.csv/sfnwmrdaPeking_1_phenotypic.csv_session_1_rest_1.nii.gz\n",
      "missing /home/share/TmpData/Qinglin/ADHD200_Athena_preproc_flirtfix/Peking_All/motion/sfnwmrdamotion_session_1_rest_1.nii.gz\n",
      "missing /home/share/TmpData/Qinglin/ADHD200_Athena_preproc_flirtfix/Peking_All/Peking_All_phenotypic.csv/sfnwmrdaPeking_All_phenotypic.csv_session_1_rest_1.nii.gz\n",
      "file numbers:  194 label numbers 194\n"
     ]
    }
   ],
   "source": [
    "#sites=['KKI','NeuroIMAGE','OHSU','Pittsburgh','WashU','Peking_All']\n",
    "sites=['Peking_All']\n",
    "for site in sites:\n",
    "    dir_name='/home/share/TmpData/Qinglin/ADHD200_Athena_preproc_flirtfix/'+site+ '/'\n",
    "    Y=prepare_label(dir_name+site+'_phenotypic.csv')\n",
    "    \n",
    "    filenames = prepare_filenames(dir_name) \n",
    "    print(\"file numbers: \",len(filenames),\"label numbers\",len(Y))\n",
    "    \n",
    "    if len(filenames) != len(Y):\n",
    "        raise Exception(\"X,Y not match\")\n",
    "    \n",
    "    X=prepare_data(filenames)\n",
    "    \n",
    "    np.save(dir_name+'/All_Data',X)\n",
    "    np.save(dir_name+'/All_Labels.npy',Y)"
   ]
  },
  {
   "cell_type": "code",
   "execution_count": 9,
   "metadata": {},
   "outputs": [
    {
     "name": "stdout",
     "output_type": "stream",
     "text": [
      "missing /home/share/TmpData/Qinglin/ADHD200_Athena_preproc_flirtfix/WashU/0015018/sfnwmrda0015018_session_1_rest_1.nii.gz\n",
      "missing /home/share/TmpData/Qinglin/ADHD200_Athena_preproc_flirtfix/WashU/WashU_phenotypic.csv/sfnwmrdaWashU_phenotypic.csv_session_1_rest_1.nii.gz\n",
      "missing /home/share/TmpData/Qinglin/ADHD200_Athena_preproc_flirtfix/WashU/motion/sfnwmrdamotion_session_1_rest_1.nii.gz\n",
      "missing /home/share/TmpData/Qinglin/ADHD200_Athena_preproc_flirtfix/WashU/0015011/sfnwmrda0015011_session_1_rest_1.nii.gz\n",
      "file numbers:  59 label numbers 61\n"
     ]
    },
    {
     "ename": "Exception",
     "evalue": "X,Y not match",
     "output_type": "error",
     "traceback": [
      "\u001b[0;31m---------------------------------------------------------------------------\u001b[0m",
      "\u001b[0;31mException\u001b[0m                                 Traceback (most recent call last)",
      "\u001b[0;32m<ipython-input-9-02e7f53c1fab>\u001b[0m in \u001b[0;36m<module>\u001b[0;34m\u001b[0m\n\u001b[1;32m     34\u001b[0m \u001b[0;34m\u001b[0m\u001b[0m\n\u001b[1;32m     35\u001b[0m     \u001b[0;32mif\u001b[0m \u001b[0mlen\u001b[0m\u001b[0;34m(\u001b[0m\u001b[0mfilenames\u001b[0m\u001b[0;34m)\u001b[0m \u001b[0;34m!=\u001b[0m \u001b[0mlen\u001b[0m\u001b[0;34m(\u001b[0m\u001b[0mY\u001b[0m\u001b[0;34m)\u001b[0m\u001b[0;34m:\u001b[0m\u001b[0;34m\u001b[0m\u001b[0m\n\u001b[0;32m---> 36\u001b[0;31m         \u001b[0;32mraise\u001b[0m \u001b[0mException\u001b[0m\u001b[0;34m(\u001b[0m\u001b[0;34m\"X,Y not match\"\u001b[0m\u001b[0;34m)\u001b[0m\u001b[0;34m\u001b[0m\u001b[0m\n\u001b[0m\u001b[1;32m     37\u001b[0m \u001b[0;34m\u001b[0m\u001b[0m\n\u001b[1;32m     38\u001b[0m     \u001b[0mX\u001b[0m\u001b[0;34m=\u001b[0m\u001b[0mprepare_data\u001b[0m\u001b[0;34m(\u001b[0m\u001b[0mfilenames\u001b[0m\u001b[0;34m)\u001b[0m\u001b[0;34m\u001b[0m\u001b[0m\n",
      "\u001b[0;31mException\u001b[0m: X,Y not match"
     ]
    }
   ],
   "source": [
    "#This site has some unexpected files\n",
    "#sfnwmrda0015018_session_1_rest_1 sfnwmrda0015011_session_1_rest_1 was deleted from label file\n",
    "#Finally decided to abandon. No ahdh patients in'WashU' and 'Pittsburgh'\n",
    "sites=['WashU']\n",
    "\n",
    "import os\n",
    "def prepare_filenames2(dir_name):    \n",
    "    func_filenames=[]\n",
    "    for x in os.listdir(dir_name):\n",
    "        file=dir_name+str(x)+'/sfnwmrda'+str(x)+'_session_1_rest_1.nii.gz'\n",
    "        file2=dir_name+str(x)+'/sfnwmrda'+str(x)+'_session_2_rest_1.nii.gz'\n",
    "        file3=dir_name+str(x)+'/sfnwmrda'+str(x)+'_session_3_rest_1.nii.gz'\n",
    "        file4=dir_name+str(x)+'/sfnwmrda'+str(x)+'_session_4_rest_1.nii.gz'\n",
    "        #print(file)\n",
    "        if os.path.isfile(file):\n",
    "            func_filenames.append(file)  \n",
    "        elif os.path.isfile(file2):\n",
    "            func_filenames.append(file2)  \n",
    "        elif os.path.isfile(file3):\n",
    "            func_filenames.append(file3)              \n",
    "        elif os.path.isfile(file4):\n",
    "            func_filenames.append(file4)              \n",
    "        else:\n",
    "            print(\"missing \"+file)  \n",
    "    func_filenames=sorted(func_filenames)  \n",
    "\n",
    "     # list of 4D nifti files for each subject  \n",
    "    return func_filenames\n",
    "\n",
    "for site in sites:\n",
    "    dir_name='/home/share/TmpData/Qinglin/ADHD200_Athena_preproc_flirtfix/'+site+ '/'\n",
    "    Y=prepare_label(dir_name+site+'_phenotypic.csv')\n",
    "    \n",
    "    filenames = prepare_filenames2(dir_name) \n",
    "    print(\"file numbers: \",len(filenames),\"label numbers\",len(Y))\n",
    "    \n",
    "    if len(filenames) != len(Y):\n",
    "        raise Exception(\"X,Y not match\")\n",
    "    \n",
    "    X=prepare_data(filenames)\n",
    "    \n",
    "    np.save(dir_name+'/All_Data',X)\n",
    "    np.save(dir_name+'/All_Labels.npy',Y)\n",
    "    file=dir_name+str(x)+'/sfnwmrda'+str(x)+'_session_1_rest_1.nii.gz'"
   ]
  },
  {
   "cell_type": "code",
   "execution_count": null,
   "metadata": {},
   "outputs": [],
   "source": []
  }
 ],
 "metadata": {
  "kernelspec": {
   "display_name": "Python 3",
   "language": "python",
   "name": "python3"
  },
  "language_info": {
   "codemirror_mode": {
    "name": "ipython",
    "version": 3
   },
   "file_extension": ".py",
   "mimetype": "text/x-python",
   "name": "python",
   "nbconvert_exporter": "python",
   "pygments_lexer": "ipython3",
   "version": "3.5.2"
  }
 },
 "nbformat": 4,
 "nbformat_minor": 2
}
