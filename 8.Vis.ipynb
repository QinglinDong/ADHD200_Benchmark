{
 "cells": [
  {
   "cell_type": "code",
   "execution_count": 1,
   "metadata": {},
   "outputs": [],
   "source": [
    "%matplotlib inline"
   ]
  },
  {
   "cell_type": "code",
   "execution_count": 7,
   "metadata": {},
   "outputs": [
    {
     "name": "stderr",
     "output_type": "stream",
     "text": [
      "/usr/local/lib/python3.5/dist-packages/nilearn/_utils/cache_mixin.py:84: DeprecationWarning: The 'cachedir' parameter has been deprecated in version 0.12 and will be removed in version 0.14.\n",
      "You provided \"cachedir='/storage/nilearn_cache'\", use \"location='/storage/nilearn_cache'\" instead.\n",
      "  memory = Memory(cachedir=cache_dir, verbose=verbose)\n"
     ]
    }
   ],
   "source": [
    "import numpy as np\n",
    "from scipy.stats import scoreatpercentile\n",
    "from nilearn.image import iter_img\n",
    "from nilearn.plotting import plot_stat_map, show\n",
    "from pylab import figure\n",
    "import os\n",
    "\n",
    "mask_img ='/storage/ADHD200/athena/NYU/ADHD200_mask_152_4mm.nii.gz'\n",
    "\n",
    "from nilearn.input_data import NiftiMasker\n",
    "masker = NiftiMasker(mask_img=mask_img, \n",
    "                     standardize=True,\n",
    "                     detrend=1,\n",
    "                     smoothing_fwhm=6.,\n",
    "                     memory=\"/storage/nilearn_cache\", \n",
    "                     memory_level=2)\n",
    "masker.fit()\n",
    "\n",
    "def flip(row):\n",
    "    if np.sum(row > 0) < np.sum(row < 0):\n",
    "        row *= -1\n",
    "    return row\n",
    "        \n",
    "import statistics\n",
    "# components_img1=stats.zscore(components_img1,axis=0)\n",
    "# components_img2=stats.zscore(components_img2,axis=0)\n",
    "# components_img3=stats.zscore(components_img3,axis=0)\n",
    "def thresholding(array):    \n",
    "    thr=[]\n",
    "    array1=array\n",
    "    \n",
    "    for idx,row in enumerate(array):\n",
    "        row=flip(row)  \n",
    "        row[row < 0] = 0\n",
    "        T=np.amax(row)*0.3\n",
    "        row[np.abs(row) < T] = 0\n",
    "        \n",
    "#         T=scoreatpercentile(np.abs(row),P)\n",
    "#         T=2.3                \n",
    "#         T=max(row)*0.2\n",
    "        \n",
    "        row=row/np.std(row)        \n",
    "        array1[idx,:]=row\n",
    "    return array1\n",
    "\n",
    "def save_maps(components_img,dir):        \n",
    "    if not os.path.exists(dir):\n",
    "        os.makedirs(dir)\n",
    "    components_img = masker.inverse_transform(components_img)\n",
    "    for i, cur_img in enumerate(iter_img(components_img)):\n",
    "        outname=dir+str(i+1)+'.png'\n",
    "        plot_stat_map(cur_img, display_mode=\"z\", black_bg=True,cut_coords=1,annotate=False,\n",
    "                     colorbar=False,output_file=outname)\n",
    "        \n",
    "#         if i==5:\n",
    "#             break\n",
    "\n",
    "\n"
   ]
  },
  {
   "cell_type": "code",
   "execution_count": 10,
   "metadata": {},
   "outputs": [],
   "source": [
    "def vis(dirIn,dirOut):\n",
    "    components_img1=np.load(dirIn)\n",
    "    print(components_img1.shape)\n",
    "    \n",
    "    components_img1=thresholding(components_img1)    \n",
    "\n",
    "\n",
    "    save_maps(components_img1,dir=dirOut)        \n",
    "    \n",
    "#     np.save('/home/share/TmpData/Qinglin/HCP_Group_DBN/'+task+'_map1.npy',components_img1)\n",
    "#     np.save('/home/share/TmpData/Qinglin/HCP_Group_DBN/'+task+'_map2.npy',components_img2)\n",
    "#     np.save('/home/share/TmpData/Qinglin/HCP_Group_DBN/'+task+'_map3.npy',components_img3)\n",
    "    \n"
   ]
  },
  {
   "cell_type": "code",
   "execution_count": 12,
   "metadata": {},
   "outputs": [
    {
     "name": "stdout",
     "output_type": "stream",
     "text": [
      "(40, 28546)\n"
     ]
    },
    {
     "name": "stderr",
     "output_type": "stream",
     "text": [
      "/usr/local/lib/python3.5/dist-packages/matplotlib/figure.py:98: MatplotlibDeprecationWarning: \n",
      "Adding an axes using the same arguments as a previous axes currently reuses the earlier instance.  In a future version, a new instance will always be created and returned.  Meanwhile, this warning can be suppressed, and the future behavior ensured, by passing a unique label to each axes instance.\n",
      "  \"Adding an axes using the same arguments as a previous axes \"\n",
      "/usr/local/lib/python3.5/dist-packages/scipy/ndimage/measurements.py:272: DeprecationWarning: In future, it will be an error for 'np.bool_' scalars to be interpreted as an index\n",
      "  return _nd_image.find_objects(input, max_label)\n"
     ]
    }
   ],
   "source": [
    "vis('/home/uga_qinglin/Documents/ADHD_DL/ADHD200_VAE_components.npy','/home/uga_qinglin/Documents/ADHD_DL/VAEmaps/')\n"
   ]
  },
  {
   "cell_type": "code",
   "execution_count": 13,
   "metadata": {},
   "outputs": [
    {
     "name": "stdout",
     "output_type": "stream",
     "text": [
      "(40, 28546)\n"
     ]
    }
   ],
   "source": [
    "vis('/home/uga_qinglin/Documents/ADHD_DL/ADHD200_DL_components.npy','/home/uga_qinglin/Documents/ADHD_DL/DLmaps/')"
   ]
  },
  {
   "cell_type": "code",
   "execution_count": null,
   "metadata": {},
   "outputs": [],
   "source": []
  }
 ],
 "metadata": {
  "kernelspec": {
   "display_name": "Python 3",
   "language": "python",
   "name": "python3"
  },
  "language_info": {
   "codemirror_mode": {
    "name": "ipython",
    "version": 3
   },
   "file_extension": ".py",
   "mimetype": "text/x-python",
   "name": "python",
   "nbconvert_exporter": "python",
   "pygments_lexer": "ipython3",
   "version": "3.5.2"
  }
 },
 "nbformat": 4,
 "nbformat_minor": 2
}
