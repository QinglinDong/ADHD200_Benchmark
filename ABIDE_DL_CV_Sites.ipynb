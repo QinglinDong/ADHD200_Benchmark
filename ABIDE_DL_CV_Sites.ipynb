{
 "cells": [
  {
   "cell_type": "code",
   "execution_count": 30,
   "metadata": {},
   "outputs": [],
   "source": [
    "%matplotlib inline"
   ]
  },
  {
   "cell_type": "markdown",
   "metadata": {},
   "source": [
    "\n",
    "Functional connectivity matrices for group analysis of connectomes\n",
    "==================================================================\n",
    "\n",
    "This example compares different kinds of functional connectivity between\n",
    "regions of interest : correlation, partial correlation, as well as a kind\n",
    "called **tangent**. The resulting connectivity coefficients are used to\n",
    "discriminate ADHD patients from healthy controls and the **tangent kind**\n",
    "**outperforms** the standard connectivity kinds.\n",
    "\n"
   ]
  },
  {
   "cell_type": "code",
   "execution_count": 31,
   "metadata": {},
   "outputs": [],
   "source": [
    "# Matrix plotting from Nilearn: nilearn.plotting.plot_matrix\n",
    "import numpy as np\n",
    "import matplotlib.pylab as plt\n",
    "\n",
    "\n",
    "def plot_matrices(matrices, matrix_kind):\n",
    "    n_matrices = len(matrices)\n",
    "    fig = plt.figure(figsize=(n_matrices * 4, 4))\n",
    "    for n_subject, matrix in enumerate(matrices):\n",
    "        plt.subplot(1, n_matrices, n_subject + 1)\n",
    "        matrix = matrix.copy()  # avoid side effects\n",
    "        # Set diagonal to zero, for better visualization\n",
    "        np.fill_diagonal(matrix, 0)\n",
    "        vmax = np.max(np.abs(matrix))\n",
    "        title = '{0}, subject {1}'.format(matrix_kind, n_subject)\n",
    "        plotting.plot_matrix(matrix, vmin=-vmax, vmax=vmax, cmap='RdBu_r',\n",
    "                             title=title, figure=fig, colorbar=False)"
   ]
  },
  {
   "cell_type": "markdown",
   "metadata": {},
   "source": [
    "Load ADHD dataset and MSDL atlas\n",
    "--------------------------------\n",
    "We study only 20 subjects from the ADHD dataset, to save computation time.\n",
    "\n"
   ]
  },
  {
   "cell_type": "code",
   "execution_count": 32,
   "metadata": {},
   "outputs": [
    {
     "name": "stderr",
     "output_type": "stream",
     "text": [
      "/usr/local/lib/python3.5/dist-packages/numpy/lib/npyio.py:2278: VisibleDeprecationWarning: Reading unicode strings without specifying the encoding argument is deprecated. Set the encoding, use None for the system default.\n",
      "  output = genfromtxt(fname, **kwargs)\n"
     ]
    }
   ],
   "source": [
    "from nilearn.datasets import fetch_abide_pcp\n",
    "SITE_ID=['NYU']\n",
    "abide_data= fetch_abide_pcp(derivatives=['func_preproc'], SITE_ID='KKI',data_dir='/home/share/TmpData/Qinglin/nilearn_data/')\n",
    "\n",
    "Y = abide_data.phenotypic['DX_GROUP']\n",
    "for index, item in enumerate(Y):\n",
    "    if item>1:\n",
    "        Y[index] = 0"
   ]
  },
  {
   "cell_type": "code",
   "execution_count": null,
   "metadata": {},
   "outputs": [],
   "source": []
  },
  {
   "cell_type": "markdown",
   "metadata": {},
   "source": [
    "We use probabilistic regions of interest (ROIs) from the MSDL atlas.\n",
    "\n"
   ]
  },
  {
   "cell_type": "code",
   "execution_count": 33,
   "metadata": {},
   "outputs": [
    {
     "name": "stdout",
     "output_type": "stream",
     "text": [
      "MSDL has 39 ROIs, part of the following networks :\n",
      "[b'Aud', b'Aud', b'Striate', b'DMN', b'DMN', b'DMN', b'DMN', b'Occ post', b'Motor', b'R V Att', b'R V Att', b'R V Att', b'R V Att', b'Basal', b'L V Att', b'L V Att', b'L V Att', b'D Att', b'D Att', b'Vis Sec', b'Vis Sec', b'Vis Sec', b'Salience', b'Salience', b'Salience', b'Temporal', b'Temporal', b'Language', b'Language', b'Language', b'Language', b'Language', b'Cereb', b'Dors PCC', b'Cing-Ins', b'Cing-Ins', b'Cing-Ins', b'Ant IPS', b'Ant IPS'].\n"
     ]
    }
   ],
   "source": [
    "from nilearn import datasets\n",
    "msdl_data = datasets.fetch_atlas_msdl()\n",
    "msdl_coords = msdl_data.region_coords\n",
    "n_regions = len(msdl_coords)\n",
    "print('MSDL has {0} ROIs, part of the following networks :\\n{1}.'.format(\n",
    "    n_regions, msdl_data.networks))"
   ]
  },
  {
   "cell_type": "markdown",
   "metadata": {},
   "source": [
    "Region signals extraction\n",
    "-------------------------\n",
    "To extract regions time series, we instantiate a\n",
    ":class:`nilearn.input_data.NiftiMapsMasker` object and pass the atlas the\n",
    "file name to it, as well as filtering band-width and detrending option.\n",
    "\n"
   ]
  },
  {
   "cell_type": "code",
   "execution_count": 34,
   "metadata": {},
   "outputs": [],
   "source": [
    "from nilearn import input_data\n",
    "\n",
    "masker = input_data.NiftiMapsMasker(\n",
    "    msdl_data.maps, resampling_target=\"data\", t_r=2.5, detrend=True,\n",
    "    low_pass=.1, high_pass=.01, memory='nilearn_cache', memory_level=1)"
   ]
  },
  {
   "cell_type": "markdown",
   "metadata": {},
   "source": [
    "Then we compute region signals and extract useful phenotypic informations.\n",
    "\n"
   ]
  },
  {
   "cell_type": "code",
   "execution_count": 35,
   "metadata": {},
   "outputs": [],
   "source": [
    "from joblib import Parallel, delayed\n",
    "\n",
    "pooled_subjects=Parallel(n_jobs=8)(delayed(masker.fit_transform)(func_file) for func_file in abide_data.func_preproc)\n"
   ]
  },
  {
   "cell_type": "code",
   "execution_count": 36,
   "metadata": {},
   "outputs": [],
   "source": [
    "import numpy as np\n",
    "#np.save('/home/share/TmpData/Qinglin/ABIDE/MSDL_time_series.npy',pooled_subjects)"
   ]
  },
  {
   "cell_type": "markdown",
   "metadata": {},
   "source": [
    "What kind of connectivity is most powerful for classification?\n",
    "--------------------------------------------------------------\n",
    "*ConnectivityMeasure* can output the estimated subjects coefficients\n",
    "as a 1D arrays through the parameter *vectorize*.\n",
    "\n"
   ]
  },
  {
   "cell_type": "code",
   "execution_count": 37,
   "metadata": {},
   "outputs": [
    {
     "name": "stdout",
     "output_type": "stream",
     "text": [
      "780 correlation biomarkers for each subject.\n"
     ]
    }
   ],
   "source": [
    "from nilearn.connectome import ConnectivityMeasure\n",
    "connectivity_biomarkers = {}\n",
    "kinds = ['correlation', 'partial correlation', 'tangent']\n",
    "for kind in kinds:\n",
    "    conn_measure = ConnectivityMeasure(kind=kind, vectorize=True)\n",
    "    connectivity_biomarkers[kind] = conn_measure.fit_transform(pooled_subjects)\n",
    "\n",
    "# For each kind, all individual coefficients are stacked in a unique 2D matrix.\n",
    "print('{0} correlation biomarkers for each subject.'.format(\n",
    "    connectivity_biomarkers['correlation'].shape[1]))"
   ]
  },
  {
   "cell_type": "markdown",
   "metadata": {},
   "source": [
    "Note that we use the **pooled groups**. This is crucial for **tangent** kind,\n",
    "to get the displacements from a **unique** `mean_` of all subjects.\n",
    "\n"
   ]
  },
  {
   "cell_type": "markdown",
   "metadata": {},
   "source": [
    "We stratify the dataset into homogeneous classes according to phenotypic\n",
    "and scan site. We then split the subjects into 3 folds with the same\n",
    "proportion of each class as in the whole cohort\n",
    "\n"
   ]
  },
  {
   "cell_type": "code",
   "execution_count": 38,
   "metadata": {},
   "outputs": [],
   "source": [
    "from sklearn.model_selection import StratifiedKFold\n",
    "\n",
    "cv = StratifiedKFold(n_splits=10)"
   ]
  },
  {
   "cell_type": "markdown",
   "metadata": {},
   "source": [
    "and use the connectivity coefficients to classify ADHD patients vs controls.\n",
    "\n"
   ]
  },
  {
   "cell_type": "code",
   "execution_count": 39,
   "metadata": {},
   "outputs": [],
   "source": [
    "# Note that in cv.split(X, y),\n",
    "# providing y is sufficient to generate the splits and\n",
    "# hence np.zeros(n_samples) may be used as a placeholder for X\n",
    "# instead of actual training data.\n",
    "from sklearn.svm import LinearSVC\n",
    "from sklearn.model_selection import cross_val_score\n",
    "\n",
    "mean_scores = []\n",
    "#Y=np.load('/home/share/TmpData/Qinglin/ABIDE/Y.npy')\n",
    "for kind in kinds:\n",
    "    svc = LinearSVC(random_state=0)\n",
    "    cv_scores = cross_val_score(svc,\n",
    "                                connectivity_biomarkers[kind],\n",
    "                                y=Y,\n",
    "                                cv=cv,\n",
    "                                groups=Y,\n",
    "                                scoring='accuracy',\n",
    "                                )\n",
    "    mean_scores.append(cv_scores.mean())"
   ]
  },
  {
   "cell_type": "markdown",
   "metadata": {},
   "source": [
    "Finally, we can display the classification scores.\n",
    "\n"
   ]
  },
  {
   "cell_type": "code",
   "execution_count": 40,
   "metadata": {},
   "outputs": [
    {
     "data": {
      "image/png": "[encoded data removed]",
      "text/plain": [
       "<Figure size 432x288 with 1 Axes>"
      ]
     },
     "metadata": {
      "needs_background": "light"
     },
     "output_type": "display_data"
    }
   ],
   "source": [
    "from nilearn.plotting import show\n",
    "\n",
    "plt.figure(figsize=(6, 4))\n",
    "positions = np.arange(len(kinds)) * .1 + .1\n",
    "plt.barh(positions, mean_scores, align='center', height=.05)\n",
    "yticks = [kind.replace(' ', '\\n') for kind in kinds]\n",
    "plt.yticks(positions, yticks)\n",
    "plt.xlabel('Classification accuracy')\n",
    "plt.grid(True)\n",
    "plt.tight_layout()\n",
    "\n",
    "show()"
   ]
  },
  {
   "cell_type": "code",
   "execution_count": null,
   "metadata": {},
   "outputs": [],
   "source": []
  }
 ],
 "metadata": {
  "kernelspec": {
   "display_name": "Python 3",
   "language": "python",
   "name": "python3"
  },
  "language_info": {
   "codemirror_mode": {
    "name": "ipython",
    "version": 3
   },
   "file_extension": ".py",
   "mimetype": "text/x-python",
   "name": "python",
   "nbconvert_exporter": "python",
   "pygments_lexer": "ipython3",
   "version": "3.5.2"
  }
 },
 "nbformat": 4,
 "nbformat_minor": 1
}
