{
 "cells": [
  {
   "cell_type": "code",
   "execution_count": 20,
   "metadata": {},
   "outputs": [],
   "source": [
    "import numpy as np"
   ]
  },
  {
   "cell_type": "code",
   "execution_count": 21,
   "metadata": {},
   "outputs": [],
   "source": [
    "from nilearn._utils.niimg_conversions import _resolve_globbing\n",
    "from nilearn.input_data import NiftiMasker\n",
    "from nilearn.decomposition.base import mask_and_reduce\n",
    "def prepare_data(func_filenames):\n",
    "   \n",
    "    imgs = _resolve_globbing(func_filenames)\n",
    "    mask_img ='/home/share/TmpData/Qinglin/ADHD200_Athena_preproc_flirtfix/ADHD200_mask_152_4mm.nii.gz'\n",
    "    masker = NiftiMasker(mask_img=mask_img, \n",
    "                         standardize=True,\n",
    "                         detrend=1,\n",
    "                         smoothing_fwhm=6.,\n",
    "                         memory=\"/storage/nilearn_cache\", \n",
    "                         memory_level=2)\n",
    "    fmri_masked = masker.fit()\n",
    "\n",
    "    data = mask_and_reduce(\n",
    "        masker, imgs, confounds=None,\n",
    "        reduction_ratio=1,\n",
    "        random_state=0,\n",
    "        memory_level=3,\n",
    "        n_jobs=8)\n",
    "    return data"
   ]
  },
  {
   "cell_type": "code",
   "execution_count": 22,
   "metadata": {},
   "outputs": [],
   "source": [
    "import os\n",
    "def prepare_filenames(dir_name):    \n",
    "    func_filenames=[]\n",
    "    for x in os.listdir(dir_name):\n",
    "        file=dir_name+str(x)+'/sfnwmrda'+str(x)+'_session_1_rest_1.nii.gz'\n",
    "        #print(file)\n",
    "        if os.path.isfile(file):\n",
    "            func_filenames.append(file)  \n",
    "        else:\n",
    "            print(\"missing \"+file)  \n",
    "    func_filenames=sorted(func_filenames)  \n",
    "\n",
    "     # list of 4D nifti files for each subject  \n",
    "    return func_filenames\n",
    "\n"
   ]
  },
  {
   "cell_type": "code",
   "execution_count": 23,
   "metadata": {},
   "outputs": [],
   "source": [
    "import pandas as pd\n",
    "def prepare_label(label_filenames):\n",
    "    data = pd.read_csv(label_filenames)\n",
    "    Y = data['DX'].values\n",
    "\n",
    "    for index, item in enumerate(Y):\n",
    "        if item>1:\n",
    "            Y[index] = 1\n",
    "    return Y\n"
   ]
  },
  {
   "cell_type": "code",
   "execution_count": 26,
   "metadata": {
    "scrolled": true
   },
   "outputs": [
    {
     "name": "stdout",
     "output_type": "stream",
     "text": [
      "missing /home/share/TmpData/Qinglin/ADHD200_Athena_preproc_flirtfix/Peking_All/Peking_3_phenotypic.csv/sfnwmrdaPeking_3_phenotypic.csv_session_1_rest_1.nii.gz\n",
      "missing /home/share/TmpData/Qinglin/ADHD200_Athena_preproc_flirtfix/Peking_All/Peking_2_phenotypic.csv/sfnwmrdaPeking_2_phenotypic.csv_session_1_rest_1.nii.gz\n",
      "missing /home/share/TmpData/Qinglin/ADHD200_Athena_preproc_flirtfix/Peking_All/Peking_1_phenotypic.csv/sfnwmrdaPeking_1_phenotypic.csv_session_1_rest_1.nii.gz\n",
      "missing /home/share/TmpData/Qinglin/ADHD200_Athena_preproc_flirtfix/Peking_All/motion/sfnwmrdamotion_session_1_rest_1.nii.gz\n",
      "missing /home/share/TmpData/Qinglin/ADHD200_Athena_preproc_flirtfix/Peking_All/Peking_All_phenotypic.csv/sfnwmrdaPeking_All_phenotypic.csv_session_1_rest_1.nii.gz\n",
      "file numbers:  194 label numbers 194\n"
     ]
    }
   ],
   "source": [
    "#sites=['KKI','NeuroIMAGE','OHSU','Pittsburgh','WashU','Peking_All']\n",
    "sites=['Peking_All']\n",
    "for site in sites:\n",
    "    dir_name='/home/share/TmpData/Qinglin/ADHD200_Athena_preproc_flirtfix/'+site+ '/'\n",
    "    Y=prepare_label(dir_name+site+'_phenotypic.csv')\n",
    "    \n",
    "    filenames = prepare_filenames(dir_name) \n",
    "    print(\"file numbers: \",len(filenames),\"label numbers\",len(Y))\n",
    "    \n",
    "    if len(filenames) != len(Y):\n",
    "        raise Exception(\"X,Y not match\")\n",
    "    \n",
    "    X=prepare_data(filenames)\n",
    "    \n",
    "    np.save(dir_name+'/All_Data',X)\n",
    "    np.save(dir_name+'/All_Labels.npy',Y)"
   ]
  },
  {
   "cell_type": "code",
   "execution_count": null,
   "metadata": {},
   "outputs": [],
   "source": []
  }
 ],
 "metadata": {
  "kernelspec": {
   "display_name": "Python 3",
   "language": "python",
   "name": "python3"
  },
  "language_info": {
   "codemirror_mode": {
    "name": "ipython",
    "version": 3
   },
   "file_extension": ".py",
   "mimetype": "text/x-python",
   "name": "python",
   "nbconvert_exporter": "python",
   "pygments_lexer": "ipython3",
   "version": "3.5.2"
  }
 },
 "nbformat": 4,
 "nbformat_minor": 2
}
